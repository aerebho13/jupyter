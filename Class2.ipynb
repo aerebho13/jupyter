{
 "cells": [
  {
   "cell_type": "code",
   "execution_count": 1,
   "id": "7f412fcf",
   "metadata": {},
   "outputs": [],
   "source": [
    "class Stack:\n",
    "    def __init__(self):\n",
    "        self.items = []\n",
    "        \n",
    "    def push(self, element):\n",
    "        self.items.append(element)\n",
    "        \n",
    "    def pop(self):\n",
    "        return self.items.pop()\n",
    "    \n",
    "    def get_size(self):\n",
    "        return len(self.items)\n",
    "    \n",
    "    def is_empty(self):\n",
    "        return self.items == []"
   ]
  },
  {
   "cell_type": "code",
   "execution_count": 2,
   "id": "4241d44c",
   "metadata": {},
   "outputs": [
    {
     "name": "stdout",
     "output_type": "stream",
     "text": [
      "Pushing 1\n",
      "Pushing 2\n",
      "Pushing 3\n",
      "Pushing 4\n",
      "Pushing 5\n",
      "Got 5 from pop result\n",
      "Got 4 from pop result\n",
      "Got 3 from pop result\n",
      "Got 2 from pop result\n",
      "Got 1 from pop result\n"
     ]
    }
   ],
   "source": [
    "numbers = [1, 2, 3, 4, 5]\n",
    "\n",
    "def print_inverted_list(my_collection):\n",
    "    stack = Stack()\n",
    "    for number in numbers:\n",
    "        print(\"Pushing %s\" % number)\n",
    "        stack.push(number)\n",
    "    while not stack.is_empty():\n",
    "        number = stack.pop()\n",
    "        print (\"Got %s from pop result\" % number)\n",
    "\n",
    "print_inverted_list(numbers)"
   ]
  },
  {
   "cell_type": "markdown",
   "id": "f52c66a6",
   "metadata": {},
   "source": [
    "# Mini Challenge 1\n",
    "### Use a stack to invert a string.\n",
    "#### Given \"mystring\" as a parameter, invert it.\n",
    "```\n",
    "Examples:\n",
    "    Rafeal -> leafaR\n",
    "    Collin -> nilloC\n",
    "```"
   ]
  },
  {
   "cell_type": "code",
   "execution_count": 3,
   "id": "a2a5ef5a",
   "metadata": {},
   "outputs": [
    {
     "name": "stdout",
     "output_type": "stream",
     "text": [
      "Can you dig it!\n"
     ]
    }
   ],
   "source": [
    "def reverse_string(stack, input_str):\n",
    "    for i in range(len(input_str)):\n",
    "        stack.push(input_str[i])\n",
    "    rev_str = \"\"\n",
    "    while not stack.is_empty():\n",
    "        rev_str += stack.pop()\n",
    "        \n",
    "    return rev_str\n",
    "\n",
    "stack = Stack()\n",
    "input_str = \"!ti gid uoy naC\"\n",
    "print(reverse_string(stack, input_str))"
   ]
  },
  {
   "cell_type": "code",
   "execution_count": 4,
   "id": "e3d46d14",
   "metadata": {},
   "outputs": [],
   "source": [
    "class Queue:\n",
    "    def __init__(self):\n",
    "        self.items = []\n",
    "        \n",
    "    def enqueue(self, element):\n",
    "        self.items.append(element)\n",
    "        \n",
    "    def dequeue(self):\n",
    "        self.items.pop(0)\n",
    "    \n",
    "    def get_size(self):\n",
    "        return len(self.items)\n",
    "    \n",
    "    def is_empty(self):\n",
    "        return self.items == []"
   ]
  },
  {
   "cell_type": "markdown",
   "id": "7f0a8b30",
   "metadata": {},
   "source": [
    "# Mini Challenge 2\n",
    "### Create a queue from 2 stacks.\n",
    "#### Create a class named Queue2Stacks that consists of only 2 stacks.\n",
    ">The Queue2Stacks class should maintain the ordering principle of a Queue while being made up of two stacks (as its only class attributes)\n",
    "\n",
    "````Example (of ordering principle):\n",
    "\n",
    "myqueue = Queue2Stacks()\n",
    "myqueue.enqueue(\"A\")\n",
    "myqueue.enqueue(\"B\")\n",
    "myqueue.enqueue(\"C\")\n",
    "\n",
    "assert myqueue.dequeue() == \"A\"\n",
    "assert myqueue.dequeue() == \"B\"\n",
    "assert myqueue.dequeue() == \"C\"\n",
    "\n",
    "````"
   ]
  },
  {
   "cell_type": "code",
   "execution_count": 18,
   "id": "0154ab27",
   "metadata": {},
   "outputs": [],
   "source": [
    "class Queue2Stacks:\n",
    "    def __init__(self):\n",
    "        self.stack1 = []\n",
    "        self.stack2 = []\n",
    "        \n",
    "    def enqueue(self, item):\n",
    "        self.stack1.append(item)\n",
    "        \n",
    "    def dequeue(self):\n",
    "        if self.stack2 == []:\n",
    "            item = self.stack1.pop()\n",
    "            self.stack2.append(item)"
   ]
  },
  {
   "cell_type": "code",
   "execution_count": 12,
   "id": "b5694a3a",
   "metadata": {},
   "outputs": [
    {
     "name": "stdout",
     "output_type": "stream",
     "text": [
      "0\n",
      "None\n",
      "None\n",
      "None\n",
      "None\n"
     ]
    }
   ],
   "source": [
    "myqueue = Queue2Stacks()\n",
    "for i in range(5):\n",
    "    myqueue.enqueue(i)\n",
    "\n",
    "for _ in range(5):\n",
    "    item = myqueue.dequeue()\n",
    "    print(item)\n"
   ]
  },
  {
   "cell_type": "code",
   "execution_count": null,
   "id": "801a95fe",
   "metadata": {},
   "outputs": [],
   "source": []
  }
 ],
 "metadata": {
  "kernelspec": {
   "display_name": "Python 3 (ipykernel)",
   "language": "python",
   "name": "python3"
  },
  "language_info": {
   "codemirror_mode": {
    "name": "ipython",
    "version": 3
   },
   "file_extension": ".py",
   "mimetype": "text/x-python",
   "name": "python",
   "nbconvert_exporter": "python",
   "pygments_lexer": "ipython3",
   "version": "3.10.2"
  }
 },
 "nbformat": 4,
 "nbformat_minor": 5
}
