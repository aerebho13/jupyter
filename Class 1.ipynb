{
 "cells": [
  {
   "cell_type": "code",
   "execution_count": 1,
   "id": "60a353d3",
   "metadata": {},
   "outputs": [
    {
     "name": "stdout",
     "output_type": "stream",
     "text": [
      "H\n",
      "e\n",
      "l\n",
      "l\n",
      "o\n",
      " \n",
      "W\n",
      "o\n",
      "r\n",
      "l\n",
      "d\n"
     ]
    }
   ],
   "source": [
    "for letter in \"Hello World\":\n",
    "    print(letter)"
   ]
  },
  {
   "cell_type": "markdown",
   "id": "1a30ef88",
   "metadata": {},
   "source": [
    "# PROBLEM 1\n",
    "### Given 2 Strings (string_a and string_b) let's check whether or not they are anagrams of each other given the following criteria:\n",
    "\n",
    "> Two strings are only anagrams of each other if all conditions below are met:\n",
    "> * They must be exactly the same length.\n",
    "> * They must use exactly the same characters (no more, no less).\n",
    "\n",
    "```\n",
    "Example(s): cars and scar, heart and earth, etc.\n",
    "```"
   ]
  },
  {
   "cell_type": "code",
   "execution_count": 13,
   "id": "7da569f5",
   "metadata": {},
   "outputs": [
    {
     "name": "stdout",
     "output_type": "stream",
     "text": [
      "True\n",
      "True\n",
      "True\n",
      "False\n"
     ]
    }
   ],
   "source": [
    "def test(st1, st2):\n",
    "    \n",
    "    st1 = st1.replace(\" \", \"\").lower()\n",
    "    st2 = st2.replace(\" \", \"\").lower()\n",
    "    \n",
    "    a = {}\n",
    "    for x in st1:\n",
    "        if x not in a:\n",
    "            a[x] = 0\n",
    "        a[x] += 1\n",
    "    \n",
    "    e = {}\n",
    "    for x in st2:\n",
    "        if x not in e:\n",
    "            e[x] = 0\n",
    "        e[x] += 1\n",
    "        \n",
    "    return a == e\n",
    "\n",
    "print(test('wand', 'dawn'))\n",
    "print(test('Wand', 'dawn'))\n",
    "print(test('wan d', 'dawn '))\n",
    "print(test('wands', 'd awn '))\n",
    "            "
   ]
  },
  {
   "cell_type": "code",
   "execution_count": null,
   "id": "217eb5b0",
   "metadata": {},
   "outputs": [],
   "source": []
  }
 ],
 "metadata": {
  "kernelspec": {
   "display_name": "Python 3 (ipykernel)",
   "language": "python",
   "name": "python3"
  },
  "language_info": {
   "codemirror_mode": {
    "name": "ipython",
    "version": 3
   },
   "file_extension": ".py",
   "mimetype": "text/x-python",
   "name": "python",
   "nbconvert_exporter": "python",
   "pygments_lexer": "ipython3",
   "version": "3.10.2"
  }
 },
 "nbformat": 4,
 "nbformat_minor": 5
}
